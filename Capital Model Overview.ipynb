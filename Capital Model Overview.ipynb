{
 "cells": [
  {
   "cell_type": "markdown",
   "metadata": {},
   "source": [
    "# Building A Capital Model\n",
    "\n",
    "## Overview\n",
    "This project has been created to produce a simple open source capital model. In the style of which insurance companies use to determine their capital requirements and manage risk.\n",
    "This project was started as a process to help me get better at writing code in Python.\n",
    "\n",
    "## Key features of a capital model\n",
    "Typically insurance companies write sevral differnt lines of business, with different risk profiles. The potential claims cost from thee lines of business are modelled by fitting distributions to historic losses after adjsuting for changes in exposure and rate over time.\n",
    "It is common for insurers to split losses between attrional, large and catastrophe losses. Catstrophe losses are from large events which typically impact several classes. Complex catastrophe models are used to produce these losses. Insurers also split losses between attritonal and large losses, this is becasue losses of different sizes may behave differntly, but also to aid the modelling of reinsurance.\n",
    "Attritional losses are modelled using an aggregate distribution like the lognormal distribution. Large losses are modelled individually, so both the frequency of hte large losses and the severity of the large losses are modelled.\n",
    "Insurers often buy risk XoL reinsurance policies, his provides protection if an individual loss exceeds a certain amount. \n",
    "To enable reinsurance to be captured properly in the modelling, the threshold for a large loss should be below the point at which the reinsurance programme starts.\n",
    "\n",
    "## Modelling approach\n",
    "This project captures the key features of a capital model. The approach to modelling is explained in detail below along with illustrating how the model works."
   ]
  },
  {
   "cell_type": "markdown",
   "metadata": {},
   "source": [
    "### Importing\n",
    "To model insurance losses a class busclass2 has been created for line of business an instance of this class will be created to hold infomation about the line and the modelled losses.\n",
    "Pandas is also imported into this project. At the moment it is used primarily to help read in data"
   ]
  },
  {
   "cell_type": "code",
   "execution_count": 1,
   "metadata": {},
   "outputs": [],
   "source": [
    "import busclass2 as bc\n",
    "import pandas"
   ]
  },
  {
   "cell_type": "markdown",
   "metadata": {},
   "source": [
    "### Setting up a model\n",
    "The nmber of simulations to run in the model is defined using nsims. Here for simplicitly we are using 10, but in practice 100,000 or a million would be more typical.\n",
    "When insurance claims are generated in this model they will also be given a value for each of the loss indices. This will allow losses to be aggregated in various ways and to apply dependencies between them."
   ]
  },
  {
   "cell_type": "code",
   "execution_count": 7,
   "metadata": {},
   "outputs": [],
   "source": [
    "nsims=10\n",
    "loss_indices = ['YOA', 'AY', 'loss_type', 'exposure_type', 'loss_name']"
   ]
  },
  {
   "cell_type": "markdown",
   "metadata": {},
   "source": [
    "### Creating lines of business\n",
    "Details of each line of business are read into the model.\n",
    "Then an instance of the business class is created for each line of business."
   ]
  },
  {
   "cell_type": "code",
   "execution_count": 6,
   "metadata": {},
   "outputs": [
    {
     "data": {
      "text/html": [
       "<div>\n",
       "<table border=\"1\" class=\"dataframe\">\n",
       "  <thead>\n",
       "    <tr style=\"text-align: right;\">\n",
       "      <th></th>\n",
       "      <th>class</th>\n",
       "      <th>grossPrem</th>\n",
       "    </tr>\n",
       "  </thead>\n",
       "  <tbody>\n",
       "    <tr>\n",
       "      <th>0</th>\n",
       "      <td>Property</td>\n",
       "      <td>100</td>\n",
       "    </tr>\n",
       "    <tr>\n",
       "      <th>1</th>\n",
       "      <td>Marine</td>\n",
       "      <td>70</td>\n",
       "    </tr>\n",
       "    <tr>\n",
       "      <th>2</th>\n",
       "      <td>Cargo</td>\n",
       "      <td>50</td>\n",
       "    </tr>\n",
       "    <tr>\n",
       "      <th>3</th>\n",
       "      <td>Energy</td>\n",
       "      <td>10</td>\n",
       "    </tr>\n",
       "  </tbody>\n",
       "</table>\n",
       "</div>"
      ],
      "text/plain": [
       "      class  grossPrem\n",
       "0  Property        100\n",
       "1    Marine         70\n",
       "2     Cargo         50\n",
       "3    Energy         10"
      ]
     },
     "execution_count": 6,
     "metadata": {},
     "output_type": "execute_result"
    }
   ],
   "source": [
    "# set up lobs\n",
    "class_data = pandas.read_csv(\"data/classes.csv\")\n",
    "class_data"
   ]
  },
  {
   "cell_type": "code",
   "execution_count": 8,
   "metadata": {},
   "outputs": [
    {
     "data": {
      "text/plain": [
       "{'Cargo': <busclass2.business_class at 0x7fd83b663860>,\n",
       " 'Energy': <busclass2.business_class at 0x7fd83b663898>,\n",
       " 'Marine': <busclass2.business_class at 0x7fd83b6637f0>,\n",
       " 'Property': <busclass2.business_class at 0x7fd83b663828>}"
      ]
     },
     "execution_count": 8,
     "metadata": {},
     "output_type": "execute_result"
    }
   ],
   "source": [
    "lobs = {row['class']: bc.business_class(row['class'], row['grossPrem'],nsims) for index,row in class_data.iterrows()}\n",
    "lobs"
   ]
  },
  {
   "cell_type": "code",
   "execution_count": 4,
   "metadata": {
    "scrolled": true
   },
   "outputs": [
    {
     "name": "stdout",
     "output_type": "stream",
     "text": [
      "lognorm\n",
      "{'AY': nan, 'YOA': 2017, 'loss_name': 'attr', 'exposure_type': 'new', 'loss_type': 'attr'}\n",
      "[5, 100]\n",
      "here\n",
      "[]\n",
      "[[ 100.00000093  100.01068188  100.02750415  100.03300106  100.17614196\n",
      "   123.0514196   124.53166565  189.96311054  320.52642283  477.2520579 ]]\n",
      "lognorm\n",
      "{'AY': nan, 'YOA': 2017, 'loss_name': 'attr', 'exposure_type': 'new', 'loss_type': 'attr'}\n",
      "[5, 50]\n",
      "here\n",
      "[]\n",
      "[[   50.00002604    50.0041631     50.04221723    50.72643943\n",
      "     52.14476466    53.88420161    72.34963364   275.62834332  2665.8766308\n",
      "   3855.66315406]]\n"
     ]
    }
   ],
   "source": [
    "bc.create_dist_losses(\"data/attr_params.csv\",7,loss_indices,lobs)\n"
   ]
  },
  {
   "cell_type": "code",
   "execution_count": 5,
   "metadata": {},
   "outputs": [
    {
     "name": "stdout",
     "output_type": "stream",
     "text": [
      "[[ array([ 106.97323074,  116.36362625,  127.41610214,  134.45845064,\n",
      "        163.8953538 ])\n",
      "  array([ 106.92374392,  158.62699463,  111.79850842,  106.43835356,\n",
      "        190.30143405,  103.27987981])\n",
      "  array([ 141.41517525,  223.34000726,  126.77605969,  136.76636472])\n",
      "  array([ 234.27180187,  227.58874246,  208.86137083,  470.69644341])\n",
      "  array([ 139.05906902,  132.38251332,  850.7460092 ,  143.95915722,\n",
      "        141.90905658,  193.26128971,  163.15417447,  195.90413513])\n",
      "  array([ 121.52053886,  131.94660278,  130.99663439,  375.73062855,\n",
      "        198.15772562,  238.34643935])\n",
      "  array([ 144.15152276,  153.15315817])\n",
      "  array([ 205.95825835,  215.78333654])\n",
      "  array([ 144.36593327,  618.65423034,  106.90635448,  108.4533    ,\n",
      "        295.60862786])\n",
      "  array([ 115.5968609 ,  709.76505586,  219.42252238,  124.72118412])]]\n",
      "[649.10676356761473, 777.36891438369946, 628.29760691214051, 1141.418358571842, 1960.375404651405, 1196.6985695394339, 297.30468093095408, 421.7415948970642, 1273.9884459598425, 1169.5056232692691]\n",
      "[array([array([ 144.15152276,  153.15315817]),\n",
      "       array([ 205.95825835,  215.78333654]),\n",
      "       array([ 141.41517525,  223.34000726,  126.77605969,  136.76636472]),\n",
      "       array([ 106.97323074,  116.36362625,  127.41610214,  134.45845064,\n",
      "        163.8953538 ]),\n",
      "       array([ 106.92374392,  158.62699463,  111.79850842,  106.43835356,\n",
      "        190.30143405,  103.27987981]),\n",
      "       array([ 234.27180187,  227.58874246,  208.86137083,  470.69644341]),\n",
      "       array([ 115.5968609 ,  709.76505586,  219.42252238,  124.72118412]),\n",
      "       array([ 121.52053886,  131.94660278,  130.99663439,  375.73062855,\n",
      "        198.15772562,  238.34643935]),\n",
      "       array([ 144.36593327,  618.65423034,  106.90635448,  108.4533    ,\n",
      "        295.60862786]),\n",
      "       array([ 139.05906902,  132.38251332,  850.7460092 ,  143.95915722,\n",
      "        141.90905658,  193.26128971,  163.15417447,  195.90413513])], dtype=object)]\n",
      "{'AY': nan, 'YOA': 2017, 'loss_name': 'large', 'exposure_type': 'new', 'loss_type': 'large'}\n",
      "[[ 100.00000093  100.01068188  100.02750415  100.03300106  100.17614196\n",
      "   123.0514196   124.53166565  189.96311054  320.52642283  477.2520579 ]]\n",
      "[array([array([ 144.15152276,  153.15315817]),\n",
      "       array([ 205.95825835,  215.78333654]),\n",
      "       array([ 141.41517525,  223.34000726,  126.77605969,  136.76636472]),\n",
      "       array([ 106.97323074,  116.36362625,  127.41610214,  134.45845064,\n",
      "        163.8953538 ]),\n",
      "       array([ 106.92374392,  158.62699463,  111.79850842,  106.43835356,\n",
      "        190.30143405,  103.27987981]),\n",
      "       array([ 234.27180187,  227.58874246,  208.86137083,  470.69644341]),\n",
      "       array([ 115.5968609 ,  709.76505586,  219.42252238,  124.72118412]),\n",
      "       array([ 121.52053886,  131.94660278,  130.99663439,  375.73062855,\n",
      "        198.15772562,  238.34643935]),\n",
      "       array([ 144.36593327,  618.65423034,  106.90635448,  108.4533    ,\n",
      "        295.60862786]),\n",
      "       array([ 139.05906902,  132.38251332,  850.7460092 ,  143.95915722,\n",
      "        141.90905658,  193.26128971,  163.15417447,  195.90413513])], dtype=object)]\n",
      "[[array([ 110.64162463,  277.29617296])\n",
      "  array([ 206.68999157,  126.04809359])\n",
      "  array([ 112.18306262,  104.10046265]) array([ 111.16264013])\n",
      "  array([ 199.46071317,  469.44728889])\n",
      "  array([ 230.64783479,  155.07685122])\n",
      "  array([ 177.58266161,  188.7142733 ,  145.77822486,  143.05427358])\n",
      "  array([ 141.03708322,  184.01248016,  208.67208929])\n",
      "  array([ 301.90219387,  100.62395166,  121.97859508,  154.78754246])\n",
      "  array([], dtype=float64)]]\n",
      "[387.9377975841582, 332.73808515342228, 216.2835252709682, 111.16264013217049, 668.90800206164249, 385.72468601189246, 655.12943335145951, 533.72165266712318, 679.29228306599884, 0]\n",
      "[array([array([], dtype=float64), array([ 111.16264013]),\n",
      "       array([ 112.18306262,  104.10046265]),\n",
      "       array([ 206.68999157,  126.04809359]),\n",
      "       array([ 230.64783479,  155.07685122]),\n",
      "       array([ 110.64162463,  277.29617296]),\n",
      "       array([ 141.03708322,  184.01248016,  208.67208929]),\n",
      "       array([ 177.58266161,  188.7142733 ,  145.77822486,  143.05427358]),\n",
      "       array([ 199.46071317,  469.44728889]),\n",
      "       array([ 301.90219387,  100.62395166,  121.97859508,  154.78754246])], dtype=object)]\n",
      "{'AY': nan, 'YOA': 2017, 'loss_name': 'large', 'exposure_type': 'new', 'loss_type': 'large'}\n",
      "[[   50.00002604    50.0041631     50.04221723    50.72643943\n",
      "     52.14476466    53.88420161    72.34963364   275.62834332  2665.8766308\n",
      "   3855.66315406]]\n",
      "[array([array([], dtype=float64), array([ 111.16264013]),\n",
      "       array([ 112.18306262,  104.10046265]),\n",
      "       array([ 206.68999157,  126.04809359]),\n",
      "       array([ 230.64783479,  155.07685122]),\n",
      "       array([ 110.64162463,  277.29617296]),\n",
      "       array([ 141.03708322,  184.01248016,  208.67208929]),\n",
      "       array([ 177.58266161,  188.7142733 ,  145.77822486,  143.05427358]),\n",
      "       array([ 199.46071317,  469.44728889]),\n",
      "       array([ 301.90219387,  100.62395166,  121.97859508,  154.78754246])], dtype=object)]\n"
     ]
    }
   ],
   "source": [
    "bc.create_freq_sev_losses(\"data/freqsev_params.csv\",8, loss_indices,lobs)"
   ]
  }
 ],
 "metadata": {
  "kernelspec": {
   "display_name": "Python 3",
   "language": "python",
   "name": "python3"
  },
  "language_info": {
   "codemirror_mode": {
    "name": "ipython",
    "version": 3
   },
   "file_extension": ".py",
   "mimetype": "text/x-python",
   "name": "python",
   "nbconvert_exporter": "python",
   "pygments_lexer": "ipython3",
   "version": "3.5.2"
  }
 },
 "nbformat": 4,
 "nbformat_minor": 2
}
